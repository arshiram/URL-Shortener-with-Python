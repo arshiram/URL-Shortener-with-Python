{
 "cells": [
  {
   "cell_type": "markdown",
   "id": "078dd9fb",
   "metadata": {},
   "source": [
    "# ARSHIYA IRAM AQUEEL AHMED\n",
    "### Python INTERN @ Synce Interns ¶\n",
    "## TASK-THREE....URL Shortener with Python"
   ]
  },
  {
   "cell_type": "markdown",
   "id": "69374690",
   "metadata": {},
   "source": [
    "#### first u need to install pyshorteners......\n",
    "#### By using pyshorteners you can easily shart the Link"
   ]
  },
  {
   "cell_type": "code",
   "execution_count": 7,
   "id": "4e821e73",
   "metadata": {},
   "outputs": [
    {
     "name": "stdout",
     "output_type": "stream",
     "text": [
      "Collecting pyshorteners\n",
      "  Downloading pyshorteners-1.0.1.tar.gz (10.0 kB)\n",
      "Requirement already satisfied: requests in ./anaconda3/lib/python3.9/site-packages (from pyshorteners) (2.27.1)\n",
      "Requirement already satisfied: certifi>=2017.4.17 in ./anaconda3/lib/python3.9/site-packages (from requests->pyshorteners) (2021.10.8)\n",
      "Requirement already satisfied: idna<4,>=2.5 in ./anaconda3/lib/python3.9/site-packages (from requests->pyshorteners) (3.3)\n",
      "Requirement already satisfied: charset-normalizer~=2.0.0 in ./anaconda3/lib/python3.9/site-packages (from requests->pyshorteners) (2.0.4)\n",
      "Requirement already satisfied: urllib3<1.27,>=1.21.1 in ./anaconda3/lib/python3.9/site-packages (from requests->pyshorteners) (1.26.9)\n",
      "Building wheels for collected packages: pyshorteners\n",
      "  Building wheel for pyshorteners (setup.py) ... \u001b[?25ldone\n",
      "\u001b[?25h  Created wheel for pyshorteners: filename=pyshorteners-1.0.1-py3-none-any.whl size=17496 sha256=7c27d2dfe1a9f33951448072bed151ac5926ed5dd6eccf9d77ff892902034580\n",
      "  Stored in directory: /home/arshiya/.cache/pip/wheels/51/56/d8/765ad4c919190fbd24541487735547e6c665c9381d4d689ae8\n",
      "Successfully built pyshorteners\n",
      "Installing collected packages: pyshorteners\n",
      "Successfully installed pyshorteners-1.0.1\n",
      "Note: you may need to restart the kernel to use updated packages.\n"
     ]
    }
   ],
   "source": [
    "pip install pyshorteners"
   ]
  },
  {
   "cell_type": "code",
   "execution_count": 22,
   "id": "a57b7bf8",
   "metadata": {},
   "outputs": [
    {
     "name": "stdout",
     "output_type": "stream",
     "text": [
      "Enter the Long Link:>>https://www.amazon.in/Lenovo-ThinkPad-20BV0064US-Professional-Downgrade/dp/B07RWR9T16/?_encoding=UTF8&pd_rd_w=Li55p&content-id=amzn1.sym.b92e605b-0fc1-4d6c-8e7a-993eaed39bf6&pf_rd_p=b92e605b-0fc1-4d6c-8e7a-993eaed39bf6&pf_rd_r=HD3WDCBED3P1X7JCE4Y1&pd_rd_wg=IfOR8&pd_rd_r=f6983a33-8ef5-4a4b-b716-fcb20793e56d&ref_=pd_gw_unk\n",
      "This is your short link:>>  https://tinyurl.com/2kc94xot\n"
     ]
    }
   ],
   "source": [
    "from pyshorteners import *\n",
    "\n",
    "url=input(\"Enter the Long Link:>>\")\n",
    "#Short_link(\"Short Link is: \")\n",
    "\n",
    "print('This is your short link:>> ',Shortener().tinyurl.short(url))"
   ]
  },
  {
   "cell_type": "code",
   "execution_count": null,
   "id": "4971a833",
   "metadata": {},
   "outputs": [],
   "source": []
  }
 ],
 "metadata": {
  "kernelspec": {
   "display_name": "Python 3 (ipykernel)",
   "language": "python",
   "name": "python3"
  },
  "language_info": {
   "codemirror_mode": {
    "name": "ipython",
    "version": 3
   },
   "file_extension": ".py",
   "mimetype": "text/x-python",
   "name": "python",
   "nbconvert_exporter": "python",
   "pygments_lexer": "ipython3",
   "version": "3.9.12"
  }
 },
 "nbformat": 4,
 "nbformat_minor": 5
}
